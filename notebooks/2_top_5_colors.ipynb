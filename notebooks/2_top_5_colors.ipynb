{
 "cells": [
  {
   "cell_type": "code",
   "execution_count": 1,
   "metadata": {},
   "outputs": [
    {
     "name": "stderr",
     "output_type": "stream",
     "text": [
      "\u001b[32m2023-11-28 13:09:43.800\u001b[0m | \u001b[1mINFO    \u001b[0m | \u001b[36messential_takehome.files\u001b[0m:\u001b[36mload_dataframes\u001b[0m:\u001b[36m31\u001b[0m - \u001b[1mLoaded file country_id_mapping.csv\u001b[0m\n",
      "\u001b[32m2023-11-28 13:09:43.915\u001b[0m | \u001b[1mINFO    \u001b[0m | \u001b[36messential_takehome.files\u001b[0m:\u001b[36mload_dataframes\u001b[0m:\u001b[36m31\u001b[0m - \u001b[1mLoaded file customer_data.csv\u001b[0m\n",
      "\u001b[32m2023-11-28 13:09:46.363\u001b[0m | \u001b[1mINFO    \u001b[0m | \u001b[36messential_takehome.files\u001b[0m:\u001b[36mload_dataframes\u001b[0m:\u001b[36m31\u001b[0m - \u001b[1mLoaded file session_clickstream_data.csv\u001b[0m\n",
      "\u001b[32m2023-11-28 13:09:46.395\u001b[0m | \u001b[1mINFO    \u001b[0m | \u001b[36messential_takehome.files\u001b[0m:\u001b[36mload_dataframes\u001b[0m:\u001b[36m31\u001b[0m - \u001b[1mLoaded file sku_data.csv\u001b[0m\n"
     ]
    }
   ],
   "source": [
    "from essential_takehome.files import load_dataframes\n",
    "datasets = load_dataframes()"
   ]
  },
  {
   "cell_type": "markdown",
   "metadata": {},
   "source": [
    "# Test Agent Output"
   ]
  },
  {
   "cell_type": "code",
   "execution_count": 2,
   "metadata": {},
   "outputs": [
    {
     "data": {
      "text/plain": [
       "Available Colors\n",
       "Orange    13558\n",
       "Grey      13053\n",
       "Purple    11672\n",
       "Blue      11413\n",
       "Red       10952\n",
       "Name: count, dtype: int64"
      ]
     },
     "execution_count": 2,
     "metadata": {},
     "output_type": "execute_result"
    }
   ],
   "source": [
    "import pandas as pd\n",
    "\n",
    "# Step 1: Merge the necessary dataframes\n",
    "merged_data = pd.merge(datasets['session_clickstream_data.csv'], datasets['customer_data.csv'], on='Customer ID')\n",
    "merged_data = pd.merge(merged_data, datasets['sku_data.csv'], on='SKU ID')\n",
    "merged_data = pd.merge(merged_data, datasets['country_id_mapping.csv'], on='Country ID')\n",
    "\n",
    "# Step 2: Filter the data for Europe and the specified months\n",
    "europe_data = merged_data[merged_data['Country'] != 'United States']  # Assuming Europe is not included in 'United States'\n",
    "europe_data = europe_data[(europe_data['month'] >= 5) & (europe_data['month'] <= 7)]\n",
    "\n",
    "# Step 3: Count the occurrences of each product color\n",
    "color_counts = europe_data['Available Colors'].explode().value_counts()\n",
    "\n",
    "# Step 4: Sort the colors in descending order based on their count\n",
    "sorted_colors = color_counts.sort_values(ascending=False)\n",
    "\n",
    "# Step 5: Select the top 5 most common colors\n",
    "top_5_colors = sorted_colors.head(5)\n",
    "\n",
    "top_5_colors"
   ]
  },
  {
   "cell_type": "code",
   "execution_count": null,
   "metadata": {},
   "outputs": [],
   "source": []
  },
  {
   "cell_type": "code",
   "execution_count": null,
   "metadata": {},
   "outputs": [],
   "source": []
  }
 ],
 "metadata": {
  "kernelspec": {
   "display_name": ".venv",
   "language": "python",
   "name": "python3"
  },
  "language_info": {
   "codemirror_mode": {
    "name": "ipython",
    "version": 3
   },
   "file_extension": ".py",
   "mimetype": "text/x-python",
   "name": "python",
   "nbconvert_exporter": "python",
   "pygments_lexer": "ipython3",
   "version": "3.9.17"
  }
 },
 "nbformat": 4,
 "nbformat_minor": 2
}
