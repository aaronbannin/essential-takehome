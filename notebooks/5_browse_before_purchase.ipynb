{
 "cells": [
  {
   "cell_type": "code",
   "execution_count": 2,
   "metadata": {},
   "outputs": [
    {
     "name": "stderr",
     "output_type": "stream",
     "text": [
      "\u001b[32m2023-11-28 11:21:50.267\u001b[0m | \u001b[1mINFO    \u001b[0m | \u001b[36messential_takehome.files\u001b[0m:\u001b[36mload_dataframes\u001b[0m:\u001b[36m31\u001b[0m - \u001b[1mLoaded file country_id_mapping.csv\u001b[0m\n",
      "\u001b[32m2023-11-28 11:21:50.321\u001b[0m | \u001b[1mINFO    \u001b[0m | \u001b[36messential_takehome.files\u001b[0m:\u001b[36mload_dataframes\u001b[0m:\u001b[36m31\u001b[0m - \u001b[1mLoaded file customer_data.csv\u001b[0m\n",
      "\u001b[32m2023-11-28 11:21:50.813\u001b[0m | \u001b[1mINFO    \u001b[0m | \u001b[36messential_takehome.files\u001b[0m:\u001b[36mload_dataframes\u001b[0m:\u001b[36m31\u001b[0m - \u001b[1mLoaded file session_clickstream_data.csv\u001b[0m\n",
      "\u001b[32m2023-11-28 11:21:50.821\u001b[0m | \u001b[1mINFO    \u001b[0m | \u001b[36messential_takehome.files\u001b[0m:\u001b[36mload_dataframes\u001b[0m:\u001b[36m31\u001b[0m - \u001b[1mLoaded file sku_data.csv\u001b[0m\n"
     ]
    }
   ],
   "source": [
    "from essential_takehome.files import load_dataframes\n",
    "datasets = load_dataframes()"
   ]
  },
  {
   "cell_type": "markdown",
   "metadata": {},
   "source": [
    "# Test Agent Output"
   ]
  },
  {
   "cell_type": "code",
   "execution_count": 3,
   "metadata": {},
   "outputs": [
    {
     "ename": "KeyError",
     "evalue": "'day_of_week'",
     "output_type": "error",
     "traceback": [
      "\u001b[0;31m---------------------------------------------------------------------------\u001b[0m",
      "\u001b[0;31mKeyError\u001b[0m                                  Traceback (most recent call last)",
      "File \u001b[0;32m~/projects/essential-takehome/.venv/lib/python3.9/site-packages/pandas/core/indexes/base.py:3790\u001b[0m, in \u001b[0;36mIndex.get_loc\u001b[0;34m(self, key)\u001b[0m\n\u001b[1;32m   3789\u001b[0m \u001b[39mtry\u001b[39;00m:\n\u001b[0;32m-> 3790\u001b[0m     \u001b[39mreturn\u001b[39;00m \u001b[39mself\u001b[39;49m\u001b[39m.\u001b[39;49m_engine\u001b[39m.\u001b[39;49mget_loc(casted_key)\n\u001b[1;32m   3791\u001b[0m \u001b[39mexcept\u001b[39;00m \u001b[39mKeyError\u001b[39;00m \u001b[39mas\u001b[39;00m err:\n",
      "File \u001b[0;32mindex.pyx:152\u001b[0m, in \u001b[0;36mpandas._libs.index.IndexEngine.get_loc\u001b[0;34m()\u001b[0m\n",
      "File \u001b[0;32mindex.pyx:181\u001b[0m, in \u001b[0;36mpandas._libs.index.IndexEngine.get_loc\u001b[0;34m()\u001b[0m\n",
      "File \u001b[0;32mpandas/_libs/hashtable_class_helper.pxi:7080\u001b[0m, in \u001b[0;36mpandas._libs.hashtable.PyObjectHashTable.get_item\u001b[0;34m()\u001b[0m\n",
      "File \u001b[0;32mpandas/_libs/hashtable_class_helper.pxi:7088\u001b[0m, in \u001b[0;36mpandas._libs.hashtable.PyObjectHashTable.get_item\u001b[0;34m()\u001b[0m\n",
      "\u001b[0;31mKeyError\u001b[0m: 'day_of_week'",
      "\nThe above exception was the direct cause of the following exception:\n",
      "\u001b[0;31mKeyError\u001b[0m                                  Traceback (most recent call last)",
      "\u001b[1;32m/Users/aaronbannin/projects/essential-takehome/notebooks/5_browse_before_purchase.ipynb Cell 3\u001b[0m line \u001b[0;36m1\n\u001b[1;32m      <a href='vscode-notebook-cell:/Users/aaronbannin/projects/essential-takehome/notebooks/5_browse_before_purchase.ipynb#W2sZmlsZQ%3D%3D?line=6'>7</a>\u001b[0m merged_data \u001b[39m=\u001b[39m pd\u001b[39m.\u001b[39mmerge(session_clickstream_data, customer_data, on\u001b[39m=\u001b[39m\u001b[39m'\u001b[39m\u001b[39mCustomer ID\u001b[39m\u001b[39m'\u001b[39m)\n\u001b[1;32m      <a href='vscode-notebook-cell:/Users/aaronbannin/projects/essential-takehome/notebooks/5_browse_before_purchase.ipynb#W2sZmlsZQ%3D%3D?line=8'>9</a>\u001b[0m \u001b[39m# Step 2: Filter the data for weekends and holidays vs weekdays\u001b[39;00m\n\u001b[0;32m---> <a href='vscode-notebook-cell:/Users/aaronbannin/projects/essential-takehome/notebooks/5_browse_before_purchase.ipynb#W2sZmlsZQ%3D%3D?line=9'>10</a>\u001b[0m weekend_holiday_data \u001b[39m=\u001b[39m merged_data[(merged_data[\u001b[39m'\u001b[39;49m\u001b[39mday_of_week\u001b[39;49m\u001b[39m'\u001b[39;49m] \u001b[39m==\u001b[39m \u001b[39m'\u001b[39m\u001b[39mSaturday\u001b[39m\u001b[39m'\u001b[39m) \u001b[39m|\u001b[39m\n\u001b[1;32m     <a href='vscode-notebook-cell:/Users/aaronbannin/projects/essential-takehome/notebooks/5_browse_before_purchase.ipynb#W2sZmlsZQ%3D%3D?line=10'>11</a>\u001b[0m                                    (merged_data[\u001b[39m'\u001b[39m\u001b[39mday_of_week\u001b[39m\u001b[39m'\u001b[39m] \u001b[39m==\u001b[39m \u001b[39m'\u001b[39m\u001b[39mSunday\u001b[39m\u001b[39m'\u001b[39m) \u001b[39m|\u001b[39m\n\u001b[1;32m     <a href='vscode-notebook-cell:/Users/aaronbannin/projects/essential-takehome/notebooks/5_browse_before_purchase.ipynb#W2sZmlsZQ%3D%3D?line=11'>12</a>\u001b[0m                                    (merged_data[\u001b[39m'\u001b[39m\u001b[39mholiday\u001b[39m\u001b[39m'\u001b[39m] \u001b[39m==\u001b[39m \u001b[39mTrue\u001b[39;00m)]\n\u001b[1;32m     <a href='vscode-notebook-cell:/Users/aaronbannin/projects/essential-takehome/notebooks/5_browse_before_purchase.ipynb#W2sZmlsZQ%3D%3D?line=13'>14</a>\u001b[0m weekday_data \u001b[39m=\u001b[39m merged_data[(merged_data[\u001b[39m'\u001b[39m\u001b[39mday_of_week\u001b[39m\u001b[39m'\u001b[39m] \u001b[39m!=\u001b[39m \u001b[39m'\u001b[39m\u001b[39mSaturday\u001b[39m\u001b[39m'\u001b[39m) \u001b[39m&\u001b[39m\n\u001b[1;32m     <a href='vscode-notebook-cell:/Users/aaronbannin/projects/essential-takehome/notebooks/5_browse_before_purchase.ipynb#W2sZmlsZQ%3D%3D?line=14'>15</a>\u001b[0m                            (merged_data[\u001b[39m'\u001b[39m\u001b[39mday_of_week\u001b[39m\u001b[39m'\u001b[39m] \u001b[39m!=\u001b[39m \u001b[39m'\u001b[39m\u001b[39mSunday\u001b[39m\u001b[39m'\u001b[39m) \u001b[39m&\u001b[39m\n\u001b[1;32m     <a href='vscode-notebook-cell:/Users/aaronbannin/projects/essential-takehome/notebooks/5_browse_before_purchase.ipynb#W2sZmlsZQ%3D%3D?line=15'>16</a>\u001b[0m                            (merged_data[\u001b[39m'\u001b[39m\u001b[39mholiday\u001b[39m\u001b[39m'\u001b[39m] \u001b[39m==\u001b[39m \u001b[39mFalse\u001b[39;00m)]\n\u001b[1;32m     <a href='vscode-notebook-cell:/Users/aaronbannin/projects/essential-takehome/notebooks/5_browse_before_purchase.ipynb#W2sZmlsZQ%3D%3D?line=17'>18</a>\u001b[0m \u001b[39m# Step 3: Count the number of products browsed before making a purchase\u001b[39;00m\n",
      "File \u001b[0;32m~/projects/essential-takehome/.venv/lib/python3.9/site-packages/pandas/core/frame.py:3893\u001b[0m, in \u001b[0;36mDataFrame.__getitem__\u001b[0;34m(self, key)\u001b[0m\n\u001b[1;32m   3891\u001b[0m \u001b[39mif\u001b[39;00m \u001b[39mself\u001b[39m\u001b[39m.\u001b[39mcolumns\u001b[39m.\u001b[39mnlevels \u001b[39m>\u001b[39m \u001b[39m1\u001b[39m:\n\u001b[1;32m   3892\u001b[0m     \u001b[39mreturn\u001b[39;00m \u001b[39mself\u001b[39m\u001b[39m.\u001b[39m_getitem_multilevel(key)\n\u001b[0;32m-> 3893\u001b[0m indexer \u001b[39m=\u001b[39m \u001b[39mself\u001b[39;49m\u001b[39m.\u001b[39;49mcolumns\u001b[39m.\u001b[39;49mget_loc(key)\n\u001b[1;32m   3894\u001b[0m \u001b[39mif\u001b[39;00m is_integer(indexer):\n\u001b[1;32m   3895\u001b[0m     indexer \u001b[39m=\u001b[39m [indexer]\n",
      "File \u001b[0;32m~/projects/essential-takehome/.venv/lib/python3.9/site-packages/pandas/core/indexes/base.py:3797\u001b[0m, in \u001b[0;36mIndex.get_loc\u001b[0;34m(self, key)\u001b[0m\n\u001b[1;32m   3792\u001b[0m     \u001b[39mif\u001b[39;00m \u001b[39misinstance\u001b[39m(casted_key, \u001b[39mslice\u001b[39m) \u001b[39mor\u001b[39;00m (\n\u001b[1;32m   3793\u001b[0m         \u001b[39misinstance\u001b[39m(casted_key, abc\u001b[39m.\u001b[39mIterable)\n\u001b[1;32m   3794\u001b[0m         \u001b[39mand\u001b[39;00m \u001b[39many\u001b[39m(\u001b[39misinstance\u001b[39m(x, \u001b[39mslice\u001b[39m) \u001b[39mfor\u001b[39;00m x \u001b[39min\u001b[39;00m casted_key)\n\u001b[1;32m   3795\u001b[0m     ):\n\u001b[1;32m   3796\u001b[0m         \u001b[39mraise\u001b[39;00m InvalidIndexError(key)\n\u001b[0;32m-> 3797\u001b[0m     \u001b[39mraise\u001b[39;00m \u001b[39mKeyError\u001b[39;00m(key) \u001b[39mfrom\u001b[39;00m \u001b[39merr\u001b[39;00m\n\u001b[1;32m   3798\u001b[0m \u001b[39mexcept\u001b[39;00m \u001b[39mTypeError\u001b[39;00m:\n\u001b[1;32m   3799\u001b[0m     \u001b[39m# If we have a listlike key, _check_indexing_error will raise\u001b[39;00m\n\u001b[1;32m   3800\u001b[0m     \u001b[39m#  InvalidIndexError. Otherwise we fall through and re-raise\u001b[39;00m\n\u001b[1;32m   3801\u001b[0m     \u001b[39m#  the TypeError.\u001b[39;00m\n\u001b[1;32m   3802\u001b[0m     \u001b[39mself\u001b[39m\u001b[39m.\u001b[39m_check_indexing_error(key)\n",
      "\u001b[0;31mKeyError\u001b[0m: 'day_of_week'"
     ]
    }
   ],
   "source": [
    "import pandas as pd\n",
    "\n",
    "# Step 1: Merge the necessary dataframes\n",
    "customer_data = datasets['customer_data.csv']\n",
    "session_clickstream_data = datasets['session_clickstream_data.csv']\n",
    "\n",
    "merged_data = pd.merge(session_clickstream_data, customer_data, on='Customer ID')\n",
    "\n",
    "# Step 2: Filter the data for weekends and holidays vs weekdays\n",
    "weekend_holiday_data = merged_data[(merged_data['day_of_week'] == 'Saturday') |\n",
    "                                   (merged_data['day_of_week'] == 'Sunday') |\n",
    "                                   (merged_data['holiday'] == True)]\n",
    "\n",
    "weekday_data = merged_data[(merged_data['day_of_week'] != 'Saturday') &\n",
    "                           (merged_data['day_of_week'] != 'Sunday') &\n",
    "                           (merged_data['holiday'] == False)]\n",
    "\n",
    "# Step 3: Count the number of products browsed before making a purchase\n",
    "weekend_holiday_product_count = weekend_holiday_data.groupby('Customer ID')['Page Location'].count()\n",
    "weekday_product_count = weekday_data.groupby('Customer ID')['Page Location'].count()\n",
    "\n",
    "print(\"Number of products browsed on weekends and holidays:\")\n",
    "print(weekend_holiday_product_count)\n",
    "print(\"\\nNumber of products browsed on weekdays:\")\n",
    "print(weekday_product_count)"
   ]
  },
  {
   "cell_type": "code",
   "execution_count": null,
   "metadata": {},
   "outputs": [],
   "source": []
  }
 ],
 "metadata": {
  "kernelspec": {
   "display_name": ".venv",
   "language": "python",
   "name": "python3"
  },
  "language_info": {
   "codemirror_mode": {
    "name": "ipython",
    "version": 3
   },
   "file_extension": ".py",
   "mimetype": "text/x-python",
   "name": "python",
   "nbconvert_exporter": "python",
   "pygments_lexer": "ipython3",
   "version": "3.9.17"
  }
 },
 "nbformat": 4,
 "nbformat_minor": 2
}
