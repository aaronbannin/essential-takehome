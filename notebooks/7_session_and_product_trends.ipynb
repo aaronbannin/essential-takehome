{
 "cells": [
  {
   "cell_type": "code",
   "execution_count": 1,
   "metadata": {},
   "outputs": [
    {
     "name": "stderr",
     "output_type": "stream",
     "text": [
      "\u001b[32m2023-11-29 14:10:04.885\u001b[0m | \u001b[1mINFO    \u001b[0m | \u001b[36messential_takehome.files\u001b[0m:\u001b[36mload_dataframes\u001b[0m:\u001b[36m22\u001b[0m - \u001b[1mLoaded file country_id_mapping.csv\u001b[0m\n",
      "\u001b[32m2023-11-29 14:10:04.962\u001b[0m | \u001b[1mINFO    \u001b[0m | \u001b[36messential_takehome.files\u001b[0m:\u001b[36mload_dataframes\u001b[0m:\u001b[36m22\u001b[0m - \u001b[1mLoaded file customer_data.csv\u001b[0m\n",
      "\u001b[32m2023-11-29 14:10:05.496\u001b[0m | \u001b[1mINFO    \u001b[0m | \u001b[36messential_takehome.files\u001b[0m:\u001b[36mload_dataframes\u001b[0m:\u001b[36m22\u001b[0m - \u001b[1mLoaded file session_clickstream_data.csv\u001b[0m\n",
      "\u001b[32m2023-11-29 14:10:05.518\u001b[0m | \u001b[1mINFO    \u001b[0m | \u001b[36messential_takehome.files\u001b[0m:\u001b[36mload_dataframes\u001b[0m:\u001b[36m22\u001b[0m - \u001b[1mLoaded file sku_data.csv\u001b[0m\n"
     ]
    }
   ],
   "source": [
    "from essential_takehome.files import load_dataframes\n",
    "datasets = load_dataframes()"
   ]
  },
  {
   "cell_type": "markdown",
   "metadata": {},
   "source": [
    "# Test Agent Output"
   ]
  },
  {
   "cell_type": "code",
   "execution_count": 2,
   "metadata": {},
   "outputs": [
    {
     "ename": "KeyError",
     "evalue": "\"None of [Index(['time spent', 'avg purchases'], dtype='object')] are in the [columns]\"",
     "output_type": "error",
     "traceback": [
      "\u001b[0;31m---------------------------------------------------------------------------\u001b[0m",
      "\u001b[0;31mKeyError\u001b[0m                                  Traceback (most recent call last)",
      "\u001b[1;32m/Users/aaronbannin/projects/essential-takehome/notebooks/7_session_and_product_trends.ipynb Cell 3\u001b[0m line \u001b[0;36m1\n\u001b[1;32m     <a href='vscode-notebook-cell:/Users/aaronbannin/projects/essential-takehome/notebooks/7_session_and_product_trends.ipynb#W2sZmlsZQ%3D%3D?line=12'>13</a>\u001b[0m session_activity \u001b[39m=\u001b[39m [\u001b[39m'\u001b[39m\u001b[39mtime spent\u001b[39m\u001b[39m'\u001b[39m, \u001b[39m'\u001b[39m\u001b[39mavg purchases\u001b[39m\u001b[39m'\u001b[39m]\n\u001b[1;32m     <a href='vscode-notebook-cell:/Users/aaronbannin/projects/essential-takehome/notebooks/7_session_and_product_trends.ipynb#W2sZmlsZQ%3D%3D?line=14'>15</a>\u001b[0m product_features_data \u001b[39m=\u001b[39m merged_data[product_features]\n\u001b[0;32m---> <a href='vscode-notebook-cell:/Users/aaronbannin/projects/essential-takehome/notebooks/7_session_and_product_trends.ipynb#W2sZmlsZQ%3D%3D?line=15'>16</a>\u001b[0m session_activity_data \u001b[39m=\u001b[39m merged_data[session_activity]\n\u001b[1;32m     <a href='vscode-notebook-cell:/Users/aaronbannin/projects/essential-takehome/notebooks/7_session_and_product_trends.ipynb#W2sZmlsZQ%3D%3D?line=17'>18</a>\u001b[0m \u001b[39m# Step 3: Calculate trends in product features and session activity\u001b[39;00m\n\u001b[1;32m     <a href='vscode-notebook-cell:/Users/aaronbannin/projects/essential-takehome/notebooks/7_session_and_product_trends.ipynb#W2sZmlsZQ%3D%3D?line=18'>19</a>\u001b[0m product_features_trends \u001b[39m=\u001b[39m product_features_data\u001b[39m.\u001b[39mmode()\u001b[39m.\u001b[39miloc[\u001b[39m0\u001b[39m]\n",
      "File \u001b[0;32m~/projects/essential-takehome/.venv/lib/python3.9/site-packages/pandas/core/frame.py:3899\u001b[0m, in \u001b[0;36mDataFrame.__getitem__\u001b[0;34m(self, key)\u001b[0m\n\u001b[1;32m   3897\u001b[0m     \u001b[39mif\u001b[39;00m is_iterator(key):\n\u001b[1;32m   3898\u001b[0m         key \u001b[39m=\u001b[39m \u001b[39mlist\u001b[39m(key)\n\u001b[0;32m-> 3899\u001b[0m     indexer \u001b[39m=\u001b[39m \u001b[39mself\u001b[39;49m\u001b[39m.\u001b[39;49mcolumns\u001b[39m.\u001b[39;49m_get_indexer_strict(key, \u001b[39m\"\u001b[39;49m\u001b[39mcolumns\u001b[39;49m\u001b[39m\"\u001b[39;49m)[\u001b[39m1\u001b[39m]\n\u001b[1;32m   3901\u001b[0m \u001b[39m# take() does not accept boolean indexers\u001b[39;00m\n\u001b[1;32m   3902\u001b[0m \u001b[39mif\u001b[39;00m \u001b[39mgetattr\u001b[39m(indexer, \u001b[39m\"\u001b[39m\u001b[39mdtype\u001b[39m\u001b[39m\"\u001b[39m, \u001b[39mNone\u001b[39;00m) \u001b[39m==\u001b[39m \u001b[39mbool\u001b[39m:\n",
      "File \u001b[0;32m~/projects/essential-takehome/.venv/lib/python3.9/site-packages/pandas/core/indexes/base.py:6114\u001b[0m, in \u001b[0;36mIndex._get_indexer_strict\u001b[0;34m(self, key, axis_name)\u001b[0m\n\u001b[1;32m   6111\u001b[0m \u001b[39melse\u001b[39;00m:\n\u001b[1;32m   6112\u001b[0m     keyarr, indexer, new_indexer \u001b[39m=\u001b[39m \u001b[39mself\u001b[39m\u001b[39m.\u001b[39m_reindex_non_unique(keyarr)\n\u001b[0;32m-> 6114\u001b[0m \u001b[39mself\u001b[39;49m\u001b[39m.\u001b[39;49m_raise_if_missing(keyarr, indexer, axis_name)\n\u001b[1;32m   6116\u001b[0m keyarr \u001b[39m=\u001b[39m \u001b[39mself\u001b[39m\u001b[39m.\u001b[39mtake(indexer)\n\u001b[1;32m   6117\u001b[0m \u001b[39mif\u001b[39;00m \u001b[39misinstance\u001b[39m(key, Index):\n\u001b[1;32m   6118\u001b[0m     \u001b[39m# GH 42790 - Preserve name from an Index\u001b[39;00m\n",
      "File \u001b[0;32m~/projects/essential-takehome/.venv/lib/python3.9/site-packages/pandas/core/indexes/base.py:6175\u001b[0m, in \u001b[0;36mIndex._raise_if_missing\u001b[0;34m(self, key, indexer, axis_name)\u001b[0m\n\u001b[1;32m   6173\u001b[0m     \u001b[39mif\u001b[39;00m use_interval_msg:\n\u001b[1;32m   6174\u001b[0m         key \u001b[39m=\u001b[39m \u001b[39mlist\u001b[39m(key)\n\u001b[0;32m-> 6175\u001b[0m     \u001b[39mraise\u001b[39;00m \u001b[39mKeyError\u001b[39;00m(\u001b[39mf\u001b[39m\u001b[39m\"\u001b[39m\u001b[39mNone of [\u001b[39m\u001b[39m{\u001b[39;00mkey\u001b[39m}\u001b[39;00m\u001b[39m] are in the [\u001b[39m\u001b[39m{\u001b[39;00maxis_name\u001b[39m}\u001b[39;00m\u001b[39m]\u001b[39m\u001b[39m\"\u001b[39m)\n\u001b[1;32m   6177\u001b[0m not_found \u001b[39m=\u001b[39m \u001b[39mlist\u001b[39m(ensure_index(key)[missing_mask\u001b[39m.\u001b[39mnonzero()[\u001b[39m0\u001b[39m]]\u001b[39m.\u001b[39munique())\n\u001b[1;32m   6178\u001b[0m \u001b[39mraise\u001b[39;00m \u001b[39mKeyError\u001b[39;00m(\u001b[39mf\u001b[39m\u001b[39m\"\u001b[39m\u001b[39m{\u001b[39;00mnot_found\u001b[39m}\u001b[39;00m\u001b[39m not in index\u001b[39m\u001b[39m\"\u001b[39m)\n",
      "\u001b[0;31mKeyError\u001b[0m: \"None of [Index(['time spent', 'avg purchases'], dtype='object')] are in the [columns]\""
     ]
    }
   ],
   "source": [
    "import pandas as pd\n",
    "\n",
    "# Step 1: Merge the necessary dataframes\n",
    "customer_data = datasets['customer_data.csv']\n",
    "session_clickstream_data = datasets['session_clickstream_data.csv']\n",
    "sku_data = datasets['sku_data.csv']\n",
    "\n",
    "merged_data = pd.merge(session_clickstream_data, customer_data, on='Customer ID')\n",
    "merged_data = pd.merge(merged_data, sku_data, on='SKU ID')\n",
    "\n",
    "# Step 2: Analyze product features and session activity\n",
    "product_features = ['Available Colors', 'Materials', 'Type']\n",
    "session_activity = ['time spent', 'avg purchases']\n",
    "\n",
    "product_features_data = merged_data[product_features]\n",
    "session_activity_data = merged_data[session_activity]\n",
    "\n",
    "# Step 3: Calculate trends in product features and session activity\n",
    "product_features_trends = product_features_data.mode().iloc[0]\n",
    "session_activity_trends = session_activity_data.mean()\n",
    "\n",
    "# Step 4: Display the trends\n",
    "print(\"Product Features Trends:\")\n",
    "print(product_features_trends)\n",
    "print(\"\\nSession Activity Trends:\")\n",
    "print(session_activity_trends)"
   ]
  },
  {
   "cell_type": "markdown",
   "metadata": {},
   "source": [
    "# Manually Defined Answer"
   ]
  },
  {
   "cell_type": "code",
   "execution_count": 17,
   "metadata": {},
   "outputs": [
    {
     "name": "stdout",
     "output_type": "stream",
     "text": [
      "Available Colors       Black                                                 \\\n",
      "Type                  Blouse                              Dress               \n",
      "Materials             Cotton   Polyester       Wool      Cotton       Denim   \n",
      "Date                                                                          \n",
      "2008-04-01         No Change   No Change  No Change   No Change   No Change   \n",
      "2008-04-02        Decreasing  Increasing  No Change   No Change  Increasing   \n",
      "2008-04-03        Decreasing   No Change  No Change  Decreasing  Decreasing   \n",
      "2008-04-04        Increasing   No Change  No Change  Decreasing  Decreasing   \n",
      "2008-04-05        Increasing  Increasing  No Change  Increasing   No Change   \n",
      "...                      ...         ...        ...         ...         ...   \n",
      "2008-08-09         No Change   No Change  No Change   No Change  Increasing   \n",
      "2008-08-10        Increasing   No Change  No Change   No Change  Decreasing   \n",
      "2008-08-11        Increasing  Increasing  No Change   No Change   No Change   \n",
      "2008-08-12        Decreasing  Decreasing  No Change   No Change  Increasing   \n",
      "2008-08-13        Decreasing   No Change  No Change   No Change   No Change   \n",
      "\n",
      "Available Colors                                                             \\\n",
      "Type                              Jacket                              Jeans   \n",
      "Materials               Wool       Denim  Polyester        Silk      Cotton   \n",
      "Date                                                                          \n",
      "2008-04-01         No Change   No Change  No Change   No Change   No Change   \n",
      "2008-04-02         No Change  Increasing  No Change   No Change  Decreasing   \n",
      "2008-04-03        Decreasing  Decreasing  No Change  Decreasing  Increasing   \n",
      "2008-04-04        Increasing  Increasing  No Change   No Change  Decreasing   \n",
      "2008-04-05        Decreasing  Decreasing  No Change  Increasing   No Change   \n",
      "...                      ...         ...        ...         ...         ...   \n",
      "2008-08-09         No Change  Decreasing  No Change   No Change  Decreasing   \n",
      "2008-08-10         No Change   No Change  No Change   No Change  Increasing   \n",
      "2008-08-11        Increasing   No Change  No Change   No Change  Increasing   \n",
      "2008-08-12         No Change   No Change  No Change  Decreasing  Decreasing   \n",
      "2008-08-13         No Change   No Change  No Change   No Change  Decreasing   \n",
      "\n",
      "Available Colors  ...      Yellow                                      \\\n",
      "Type              ...       Jeans                                       \n",
      "Materials         ...     Leather   Polyester        Silk        Wool   \n",
      "Date              ...                                                   \n",
      "2008-04-01        ...   No Change   No Change   No Change   No Change   \n",
      "2008-04-02        ...   No Change   No Change  Decreasing  Decreasing   \n",
      "2008-04-03        ...  Increasing  Increasing  Decreasing  Increasing   \n",
      "2008-04-04        ...   No Change  Decreasing   No Change  Decreasing   \n",
      "2008-04-05        ...   No Change   No Change  Increasing   No Change   \n",
      "...               ...         ...         ...         ...         ...   \n",
      "2008-08-09        ...   No Change  Decreasing   No Change   No Change   \n",
      "2008-08-10        ...   No Change  Increasing   No Change   No Change   \n",
      "2008-08-11        ...   No Change   No Change  Decreasing   No Change   \n",
      "2008-08-12        ...   No Change   No Change  Increasing   No Change   \n",
      "2008-08-13        ...   No Change   No Change   No Change   No Change   \n",
      "\n",
      "Available Colors                                                              \\\n",
      "Type                   Pants                   Shirt                           \n",
      "Materials              Denim        Wool      Cotton       Denim     Leather   \n",
      "Date                                                                           \n",
      "2008-04-01         No Change   No Change   No Change   No Change   No Change   \n",
      "2008-04-02         No Change  Decreasing  Decreasing  Decreasing  Increasing   \n",
      "2008-04-03        Decreasing   No Change   No Change  Increasing  Decreasing   \n",
      "2008-04-04         No Change  Increasing   No Change   No Change  Decreasing   \n",
      "2008-04-05        Increasing   No Change   No Change  Decreasing  Increasing   \n",
      "...                      ...         ...         ...         ...         ...   \n",
      "2008-08-09         No Change   No Change   No Change   No Change  Decreasing   \n",
      "2008-08-10        Increasing   No Change   No Change   No Change  Decreasing   \n",
      "2008-08-11        Increasing   No Change   No Change   No Change  Increasing   \n",
      "2008-08-12        Decreasing   No Change   No Change   No Change  Increasing   \n",
      "2008-08-13         No Change  Decreasing   No Change   No Change  Decreasing   \n",
      "\n",
      "Available Colors              \n",
      "Type                          \n",
      "Materials               Wool  \n",
      "Date                          \n",
      "2008-04-01         No Change  \n",
      "2008-04-02        Increasing  \n",
      "2008-04-03        Decreasing  \n",
      "2008-04-04        Decreasing  \n",
      "2008-04-05         No Change  \n",
      "...                      ...  \n",
      "2008-08-09        Decreasing  \n",
      "2008-08-10         No Change  \n",
      "2008-08-11         No Change  \n",
      "2008-08-12         No Change  \n",
      "2008-08-13         No Change  \n",
      "\n",
      "[135 rows x 183 columns]\n"
     ]
    },
    {
     "name": "stderr",
     "output_type": "stream",
     "text": [
      "/var/folders/82/nl12mr453xx9ltvm037413d80000gn/T/ipykernel_57509/3569038277.py:43: FutureWarning: DataFrame.applymap has been deprecated. Use DataFrame.map instead.\n",
      "  trend_analysis = daily_difference.applymap(lambda x: 'Increasing' if x > 0 else ('Decreasing' if x < 0 else 'No Change'))\n"
     ]
    }
   ],
   "source": [
    "import pandas as pd\n",
    "\n",
    "# Step 1: Merge the necessary dataframes\n",
    "# customer_data = datasets['customer_data.csv']\n",
    "session_clickstream_data = datasets['session_clickstream_data.csv']\n",
    "sku_data = datasets['sku_data.csv']\n",
    "\n",
    "# Assuming the session data has year, month, and day columns\n",
    "session_clickstream_data['Date'] = pd.to_datetime(session_clickstream_data[['year', 'month', 'day']])\n",
    "\n",
    "# Group by 'Date' and 'SKU ID' (adjust the column names based on your dataset)\n",
    "grouped_session_data = session_clickstream_data.groupby(['Date', 'SKU ID']).agg(\n",
    "    total_rows=pd.NamedAgg(column='SKU ID', aggfunc='size'),  # Count the number of rows in each group\n",
    "    purchased_count=pd.NamedAgg(column='Purchased', aggfunc=lambda x: (x == True).sum()),  # Count where 'Purchased' is True\n",
    "    total_customers_count=pd.NamedAgg(column='Customer ID', aggfunc='count')\n",
    ")\n",
    "\n",
    "\n",
    "merged_data = pd.merge(grouped_session_data.reset_index(), sku_data, on='SKU ID')\n",
    "# print(merged_data.head())\n",
    "\n",
    "grouped_merged_data = merged_data.groupby(['Available Colors', 'Type', 'Materials', 'Date']).agg(\n",
    "    total_rows_sum=pd.NamedAgg(column='total_rows', aggfunc='sum'),\n",
    "    purchased_count_sum=pd.NamedAgg(column='purchased_count', aggfunc='sum')\n",
    "    # Add other aggregations as needed\n",
    ")\n",
    "# grouped_merged_data\n",
    "\n",
    "pivot_data = merged_data.pivot_table(\n",
    "    index='Date',\n",
    "    columns=['Available Colors', 'Type', 'Materials'],\n",
    "    values='purchased_count',\n",
    "    aggfunc='sum'\n",
    ")\n",
    "# Calculate the day-to-day difference in 'purchased_count_sum'\n",
    "daily_difference = pivot_data.diff()\n",
    "\n",
    "# Check if the values are increasing or decreasing\n",
    "trend_analysis = daily_difference.applymap(lambda x: 'Increasing' if x > 0 else ('Decreasing' if x < 0 else 'No Change'))\n",
    "print(trend_analysis)\n",
    "\n"
   ]
  },
  {
   "cell_type": "code",
   "execution_count": null,
   "metadata": {},
   "outputs": [],
   "source": []
  }
 ],
 "metadata": {
  "kernelspec": {
   "display_name": ".venv",
   "language": "python",
   "name": "python3"
  },
  "language_info": {
   "codemirror_mode": {
    "name": "ipython",
    "version": 3
   },
   "file_extension": ".py",
   "mimetype": "text/x-python",
   "name": "python",
   "nbconvert_exporter": "python",
   "pygments_lexer": "ipython3",
   "version": "3.9.17"
  }
 },
 "nbformat": 4,
 "nbformat_minor": 2
}
