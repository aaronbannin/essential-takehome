{
 "cells": [
  {
   "cell_type": "code",
   "execution_count": 8,
   "metadata": {},
   "outputs": [
    {
     "name": "stderr",
     "output_type": "stream",
     "text": [
      "\u001b[32m2023-11-28 09:57:49.900\u001b[0m | \u001b[1mINFO    \u001b[0m | \u001b[36messential_takehome.files\u001b[0m:\u001b[36mload_dataframes\u001b[0m:\u001b[36m31\u001b[0m - \u001b[1mLoaded file country_id_mapping.csv\u001b[0m\n",
      "\u001b[32m2023-11-28 09:57:49.952\u001b[0m | \u001b[1mINFO    \u001b[0m | \u001b[36messential_takehome.files\u001b[0m:\u001b[36mload_dataframes\u001b[0m:\u001b[36m31\u001b[0m - \u001b[1mLoaded file customer_data.csv\u001b[0m\n",
      "\u001b[32m2023-11-28 09:57:51.231\u001b[0m | \u001b[1mINFO    \u001b[0m | \u001b[36messential_takehome.files\u001b[0m:\u001b[36mload_dataframes\u001b[0m:\u001b[36m31\u001b[0m - \u001b[1mLoaded file session_clickstream_data.csv\u001b[0m\n",
      "\u001b[32m2023-11-28 09:57:51.245\u001b[0m | \u001b[1mINFO    \u001b[0m | \u001b[36messential_takehome.files\u001b[0m:\u001b[36mload_dataframes\u001b[0m:\u001b[36m31\u001b[0m - \u001b[1mLoaded file sku_data.csv\u001b[0m\n"
     ]
    }
   ],
   "source": [
    "from essential_takehome.files import load_dataframes\n",
    "datasets = load_dataframes()"
   ]
  },
  {
   "cell_type": "markdown",
   "metadata": {},
   "source": [
    "# Test Agent Output"
   ]
  },
  {
   "cell_type": "code",
   "execution_count": 9,
   "metadata": {},
   "outputs": [
    {
     "data": {
      "text/plain": [
       "4"
      ]
     },
     "execution_count": 9,
     "metadata": {},
     "output_type": "execute_result"
    }
   ],
   "source": [
    "import pandas as pd\n",
    "\n",
    "# Step 1: Merge the necessary dataframes\n",
    "session_clickstream_data = datasets['session_clickstream_data.csv']\n",
    "sku_data = datasets['sku_data.csv']\n",
    "\n",
    "merged_data = pd.merge(session_clickstream_data, sku_data, on='SKU ID')\n",
    "\n",
    "# Step 2: Count the number of products sold in each month\n",
    "monthly_product_counts = merged_data['month'].value_counts()\n",
    "\n",
    "# Step 3: Find the month with the highest number of product sales\n",
    "most_sold_month = monthly_product_counts.idxmax()\n",
    "\n",
    "most_sold_month"
   ]
  },
  {
   "cell_type": "code",
   "execution_count": 20,
   "metadata": {},
   "outputs": [
    {
     "data": {
      "text/plain": [
       "month\n",
       "4    48199\n",
       "5    35654\n",
       "7    35231\n",
       "6    32242\n",
       "8    14148\n",
       "Name: count, dtype: int64"
      ]
     },
     "execution_count": 20,
     "metadata": {},
     "output_type": "execute_result"
    }
   ],
   "source": [
    "monthly_product_counts"
   ]
  },
  {
   "cell_type": "code",
   "execution_count": null,
   "metadata": {},
   "outputs": [],
   "source": []
  }
 ],
 "metadata": {
  "kernelspec": {
   "display_name": ".venv",
   "language": "python",
   "name": "python3"
  },
  "language_info": {
   "codemirror_mode": {
    "name": "ipython",
    "version": 3
   },
   "file_extension": ".py",
   "mimetype": "text/x-python",
   "name": "python",
   "nbconvert_exporter": "python",
   "pygments_lexer": "ipython3",
   "version": "3.9.17"
  }
 },
 "nbformat": 4,
 "nbformat_minor": 2
}
