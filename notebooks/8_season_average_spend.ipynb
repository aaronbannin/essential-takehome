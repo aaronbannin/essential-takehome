{
 "cells": [
  {
   "cell_type": "code",
   "execution_count": 2,
   "metadata": {},
   "outputs": [
    {
     "name": "stderr",
     "output_type": "stream",
     "text": [
      "\u001b[32m2023-11-29 14:50:21.265\u001b[0m | \u001b[1mINFO    \u001b[0m | \u001b[36messential_takehome.files\u001b[0m:\u001b[36mload_dataframes\u001b[0m:\u001b[36m22\u001b[0m - \u001b[1mLoaded file country_id_mapping.csv\u001b[0m\n"
     ]
    },
    {
     "name": "stderr",
     "output_type": "stream",
     "text": [
      "\u001b[32m2023-11-29 14:50:21.374\u001b[0m | \u001b[1mINFO    \u001b[0m | \u001b[36messential_takehome.files\u001b[0m:\u001b[36mload_dataframes\u001b[0m:\u001b[36m22\u001b[0m - \u001b[1mLoaded file customer_data.csv\u001b[0m\n",
      "\u001b[32m2023-11-29 14:50:22.304\u001b[0m | \u001b[1mINFO    \u001b[0m | \u001b[36messential_takehome.files\u001b[0m:\u001b[36mload_dataframes\u001b[0m:\u001b[36m22\u001b[0m - \u001b[1mLoaded file session_clickstream_data.csv\u001b[0m\n",
      "\u001b[32m2023-11-29 14:50:22.320\u001b[0m | \u001b[1mINFO    \u001b[0m | \u001b[36messential_takehome.files\u001b[0m:\u001b[36mload_dataframes\u001b[0m:\u001b[36m22\u001b[0m - \u001b[1mLoaded file sku_data.csv\u001b[0m\n"
     ]
    }
   ],
   "source": [
    "from essential_takehome.files import load_dataframes\n",
    "datasets = load_dataframes()"
   ]
  },
  {
   "cell_type": "markdown",
   "metadata": {},
   "source": [
    "# Test Agent Output"
   ]
  },
  {
   "cell_type": "code",
   "execution_count": 3,
   "metadata": {},
   "outputs": [
    {
     "name": "stdout",
     "output_type": "stream",
     "text": [
      "Month\n",
      "Spring    18.334597\n",
      "Summer    18.943519\n",
      "Name: All Purchases, dtype: float64\n"
     ]
    }
   ],
   "source": [
    "import pandas as pd\n",
    "\n",
    "# Step 1: Identify required datasets. Note: Only use the necessary data sets; avoid merging if possible.\n",
    "merged_data = pd.merge(datasets['session_clickstream_data.csv'], datasets['customer_data.csv'], on='Customer ID')\n",
    "\n",
    "# Step 2: Apply transformations\n",
    "merged_data['Month'] = merged_data['month'].apply(lambda x: 'Spring' if x in [3, 4, 5] else 'Summer')\n",
    "\n",
    "# Step 3: Group by Month and calculate average spend\n",
    "average_spend = merged_data.groupby('Month')['All Purchases'].mean()\n",
    "\n",
    "# Step 4: Explain your reasoning step by step\n",
    "# We merged the session clickstream data with the customer data based on the Customer ID column.\n",
    "# Then we created a new column called Month which categorizes the month into Spring or Summer.\n",
    "# Finally, we grouped the data by Month and calculated the average spend.\n",
    "\n",
    "print(average_spend)"
   ]
  },
  {
   "cell_type": "markdown",
   "metadata": {},
   "source": [
    "# Manually Defined Answer"
   ]
  },
  {
   "cell_type": "code",
   "execution_count": 13,
   "metadata": {},
   "outputs": [
    {
     "name": "stdout",
     "output_type": "stream",
     "text": [
      "        total_price  transaction_count  average_spend\n",
      "Season                                               \n",
      "Spring       704981              16033      43.970623\n",
      "Summer       667044              15004      44.457745\n"
     ]
    }
   ],
   "source": [
    "import pandas as pd\n",
    "session_clickstream_data = datasets['session_clickstream_data.csv']\n",
    "# Step 1: Identify required datasets. Note: Only use the necessary data sets; avoid merging if possible.\n",
    "def month_to_season(month):\n",
    "    if month in [12, 1, 2]:\n",
    "        return 'Winter'\n",
    "    elif month in [3, 4, 5]:\n",
    "        return 'Spring'\n",
    "    elif month in [6, 7, 8]:\n",
    "        return 'Summer'\n",
    "    elif month in [9, 10, 11]:\n",
    "        return 'Fall'\n",
    "\n",
    "session_clickstream_data['Season'] = session_clickstream_data['month'].apply(month_to_season)\n",
    "# session_clickstream_data\n",
    "# Step 2: Apply transformations\n",
    "# merged_data['Month'] = merged_data['month'].apply(lambda x: 'Spring' if x in [3, 4, 5] else 'Summer')\n",
    "\n",
    "# Step 3: Group by Month and calculate average spend\n",
    "# Filter for rows where 'Purchased' is True\n",
    "purchased_data = session_clickstream_data[session_clickstream_data['Purchased'] == True]\n",
    "\n",
    "# Group by 'Season', then sum 'price' and count the number of rows\n",
    "seasonal_stats = purchased_data.groupby('Season').agg(\n",
    "    total_price=pd.NamedAgg(column='price', aggfunc='sum'),\n",
    "    transaction_count=pd.NamedAgg(column='price', aggfunc='count')  # Counting rows using any column\n",
    ")\n",
    "seasonal_stats['average_spend'] = seasonal_stats['total_price'] / seasonal_stats['transaction_count']\n",
    "\n",
    "print(seasonal_stats)"
   ]
  },
  {
   "cell_type": "code",
   "execution_count": null,
   "metadata": {},
   "outputs": [],
   "source": []
  }
 ],
 "metadata": {
  "kernelspec": {
   "display_name": ".venv",
   "language": "python",
   "name": "python3"
  },
  "language_info": {
   "codemirror_mode": {
    "name": "ipython",
    "version": 3
   },
   "file_extension": ".py",
   "mimetype": "text/x-python",
   "name": "python",
   "nbconvert_exporter": "python",
   "pygments_lexer": "ipython3",
   "version": "3.9.17"
  }
 },
 "nbformat": 4,
 "nbformat_minor": 2
}
