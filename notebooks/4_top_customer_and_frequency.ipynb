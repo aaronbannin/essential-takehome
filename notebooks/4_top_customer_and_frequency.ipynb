{
 "cells": [
  {
   "cell_type": "code",
   "execution_count": 1,
   "metadata": {},
   "outputs": [
    {
     "name": "stderr",
     "output_type": "stream",
     "text": [
      "\u001b[32m2023-11-28 11:00:15.300\u001b[0m | \u001b[1mINFO    \u001b[0m | \u001b[36messential_takehome.files\u001b[0m:\u001b[36mload_dataframes\u001b[0m:\u001b[36m31\u001b[0m - \u001b[1mLoaded file country_id_mapping.csv\u001b[0m\n",
      "\u001b[32m2023-11-28 11:00:15.337\u001b[0m | \u001b[1mINFO    \u001b[0m | \u001b[36messential_takehome.files\u001b[0m:\u001b[36mload_dataframes\u001b[0m:\u001b[36m31\u001b[0m - \u001b[1mLoaded file customer_data.csv\u001b[0m\n",
      "\u001b[32m2023-11-28 11:00:15.653\u001b[0m | \u001b[1mINFO    \u001b[0m | \u001b[36messential_takehome.files\u001b[0m:\u001b[36mload_dataframes\u001b[0m:\u001b[36m31\u001b[0m - \u001b[1mLoaded file session_clickstream_data.csv\u001b[0m\n",
      "\u001b[32m2023-11-28 11:00:15.659\u001b[0m | \u001b[1mINFO    \u001b[0m | \u001b[36messential_takehome.files\u001b[0m:\u001b[36mload_dataframes\u001b[0m:\u001b[36m31\u001b[0m - \u001b[1mLoaded file sku_data.csv\u001b[0m\n"
     ]
    }
   ],
   "source": [
    "from essential_takehome.files import load_dataframes\n",
    "datasets = load_dataframes()"
   ]
  },
  {
   "cell_type": "markdown",
   "metadata": {},
   "source": [
    "# Test Agent Output"
   ]
  },
  {
   "cell_type": "code",
   "execution_count": 2,
   "metadata": {},
   "outputs": [
    {
     "name": "stdout",
     "output_type": "stream",
     "text": [
      "Customer ID\n",
      "8201     161.0\n",
      "13846    192.0\n",
      "19623    142.0\n",
      "22433    195.0\n",
      "22902    185.0\n",
      "Name: All Purchases, dtype: float64\n"
     ]
    }
   ],
   "source": [
    "import pandas as pd\n",
    "\n",
    "# Step 1: Merge the necessary dataframes\n",
    "customer_data = datasets['customer_data.csv']\n",
    "session_clickstream_data = datasets['session_clickstream_data.csv']\n",
    "sku_data = datasets['sku_data.csv']\n",
    "\n",
    "merged_data = pd.merge(session_clickstream_data, customer_data, on='Customer ID')\n",
    "merged_data = pd.merge(merged_data, sku_data, on='SKU ID')\n",
    "\n",
    "# oh dear this is bad; fanning out the measure then aggregating\n",
    "# Step 2: Calculate the total purchases for each customer\n",
    "customer_purchases = merged_data.groupby('Customer ID')['All Purchases'].sum()\n",
    "\n",
    "# Step 3: Identify top customers with high purchases\n",
    "top_customers = customer_purchases.nlargest(5)\n",
    "\n",
    "# Step 4: Determine the common frequency of purchases for top customers\n",
    "common_frequency = merged_data[merged_data['Customer ID'].isin(top_customers.index)].groupby('Customer ID')['All Purchases'].mean()\n",
    "\n",
    "print(common_frequency)"
   ]
  },
  {
   "cell_type": "markdown",
   "metadata": {},
   "source": [
    "# Manually Defined Answer"
   ]
  },
  {
   "cell_type": "code",
   "execution_count": 14,
   "metadata": {},
   "outputs": [
    {
     "name": "stdout",
     "output_type": "stream",
     "text": [
      "             All_Purchases  Purchases_Per_Month\n",
      "Customer ID                                    \n",
      "8201                   161                  0.2\n",
      "13846                  192                  0.2\n",
      "19623                  142                  0.2\n",
      "22433                  195                  0.2\n",
      "22902                  185                  0.2\n"
     ]
    }
   ],
   "source": [
    "import pandas as pd\n",
    "\n",
    "# Step 1: Merge the necessary dataframes\n",
    "customer_data = datasets['customer_data.csv']\n",
    "session_clickstream_data = datasets['session_clickstream_data.csv']\n",
    "sku_data = datasets['sku_data.csv']\n",
    "\n",
    "customer_data = customer_data.nlargest(5, 'All Purchases')\n",
    "\n",
    "merged_data = pd.merge(session_clickstream_data, customer_data, on='Customer ID')\n",
    "aggregated_data = merged_data.groupby('Customer ID').agg(\n",
    "    All_Purchases=pd.NamedAgg(column='All Purchases', aggfunc='first'),  # Or use 'max' if more appropriate\n",
    "    Purchased_Count=pd.NamedAgg(column='Purchased', aggfunc=lambda x: x.sum()),\n",
    "    Unique_Months_Count=pd.NamedAgg(column='month', aggfunc='nunique')  # Assuming 'Month' is a column in your data\n",
    ")\n",
    "# merged_data = pd.merge(merged_data, sku_data, on='SKU ID')\n",
    "\n",
    "unique_months_count = session_clickstream_data['month'].nunique()\n",
    "\n",
    "\n",
    "aggregated_data['Purchases_Per_Month'] = aggregated_data['Purchased_Count'] / unique_months_count\n",
    "print(aggregated_data[['All_Purchases', 'Purchases_Per_Month']])"
   ]
  },
  {
   "cell_type": "code",
   "execution_count": null,
   "metadata": {},
   "outputs": [],
   "source": []
  }
 ],
 "metadata": {
  "kernelspec": {
   "display_name": ".venv",
   "language": "python",
   "name": "python3"
  },
  "language_info": {
   "codemirror_mode": {
    "name": "ipython",
    "version": 3
   },
   "file_extension": ".py",
   "mimetype": "text/x-python",
   "name": "python",
   "nbconvert_exporter": "python",
   "pygments_lexer": "ipython3",
   "version": "3.9.17"
  }
 },
 "nbformat": 4,
 "nbformat_minor": 2
}
