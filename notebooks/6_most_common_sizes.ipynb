{
 "cells": [
  {
   "cell_type": "code",
   "execution_count": 2,
   "metadata": {},
   "outputs": [
    {
     "name": "stderr",
     "output_type": "stream",
     "text": [
      "\u001b[32m2023-11-28 12:21:33.944\u001b[0m | \u001b[1mINFO    \u001b[0m | \u001b[36messential_takehome.files\u001b[0m:\u001b[36mload_dataframes\u001b[0m:\u001b[36m31\u001b[0m - \u001b[1mLoaded file country_id_mapping.csv\u001b[0m\n",
      "\u001b[32m2023-11-28 12:21:34.295\u001b[0m | \u001b[1mINFO    \u001b[0m | \u001b[36messential_takehome.files\u001b[0m:\u001b[36mload_dataframes\u001b[0m:\u001b[36m31\u001b[0m - \u001b[1mLoaded file customer_data.csv\u001b[0m\n"
     ]
    },
    {
     "name": "stderr",
     "output_type": "stream",
     "text": [
      "\u001b[32m2023-11-28 12:21:35.307\u001b[0m | \u001b[1mINFO    \u001b[0m | \u001b[36messential_takehome.files\u001b[0m:\u001b[36mload_dataframes\u001b[0m:\u001b[36m31\u001b[0m - \u001b[1mLoaded file session_clickstream_data.csv\u001b[0m\n",
      "\u001b[32m2023-11-28 12:21:35.321\u001b[0m | \u001b[1mINFO    \u001b[0m | \u001b[36messential_takehome.files\u001b[0m:\u001b[36mload_dataframes\u001b[0m:\u001b[36m31\u001b[0m - \u001b[1mLoaded file sku_data.csv\u001b[0m\n"
     ]
    }
   ],
   "source": [
    "from essential_takehome.files import load_dataframes\n",
    "datasets = load_dataframes()"
   ]
  },
  {
   "cell_type": "markdown",
   "metadata": {},
   "source": [
    "# Test Agent Output"
   ]
  },
  {
   "cell_type": "code",
   "execution_count": 3,
   "metadata": {},
   "outputs": [
    {
     "name": "stdout",
     "output_type": "stream",
     "text": [
      "[\"['M', 'XXL']\" \"['M']\" \"['S', 'XXL', 'M']\" \"['XXL', 'M', 'S', 'XS']\"\n",
      " \"['XL', 'XS', 'XXL', 'L', 'S']\" \"['L', 'XXL', 'XS', 'S']\"\n",
      " \"['XS', 'M', 'S']\" \"['XL', 'S', 'L', 'XXL', 'XS']\"\n",
      " \"['M', 'XXL', 'XL', 'L']\" \"['L']\"]\n"
     ]
    }
   ],
   "source": [
    "import pandas as pd\n",
    "\n",
    "# Step 1: Merge the necessary dataframes\n",
    "session_clickstream_data = datasets['session_clickstream_data.csv']\n",
    "sku_data = datasets['sku_data.csv']\n",
    "\n",
    "merged_data = pd.merge(session_clickstream_data, sku_data, on='SKU ID')\n",
    "\n",
    "# Step 2: Filter the data for the top-selling products\n",
    "top_selling_products = merged_data['SKU ID'].value_counts().head(10).index.tolist()\n",
    "top_selling_data = merged_data[merged_data['SKU ID'].isin(top_selling_products)]\n",
    "\n",
    "# Step 3: Get the available sizes for the top-selling products\n",
    "available_sizes = top_selling_data['Available Sizes'].explode().unique()\n",
    "\n",
    "print(available_sizes)"
   ]
  },
  {
   "cell_type": "code",
   "execution_count": null,
   "metadata": {},
   "outputs": [],
   "source": []
  }
 ],
 "metadata": {
  "kernelspec": {
   "display_name": ".venv",
   "language": "python",
   "name": "python3"
  },
  "language_info": {
   "codemirror_mode": {
    "name": "ipython",
    "version": 3
   },
   "file_extension": ".py",
   "mimetype": "text/x-python",
   "name": "python",
   "nbconvert_exporter": "python",
   "pygments_lexer": "ipython3",
   "version": "3.9.17"
  }
 },
 "nbformat": 4,
 "nbformat_minor": 2
}
