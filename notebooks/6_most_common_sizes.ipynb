{
 "cells": [
  {
   "cell_type": "code",
   "execution_count": 35,
   "metadata": {},
   "outputs": [
    {
     "name": "stderr",
     "output_type": "stream",
     "text": [
      "\u001b[32m2023-11-29 14:04:53.233\u001b[0m | \u001b[1mINFO    \u001b[0m | \u001b[36messential_takehome.files\u001b[0m:\u001b[36mload_dataframes\u001b[0m:\u001b[36m22\u001b[0m - \u001b[1mLoaded file country_id_mapping.csv\u001b[0m\n",
      "\u001b[32m2023-11-29 14:04:53.387\u001b[0m | \u001b[1mINFO    \u001b[0m | \u001b[36messential_takehome.files\u001b[0m:\u001b[36mload_dataframes\u001b[0m:\u001b[36m22\u001b[0m - \u001b[1mLoaded file customer_data.csv\u001b[0m\n"
     ]
    },
    {
     "name": "stderr",
     "output_type": "stream",
     "text": [
      "\u001b[32m2023-11-29 14:04:53.784\u001b[0m | \u001b[1mINFO    \u001b[0m | \u001b[36messential_takehome.files\u001b[0m:\u001b[36mload_dataframes\u001b[0m:\u001b[36m22\u001b[0m - \u001b[1mLoaded file session_clickstream_data.csv\u001b[0m\n",
      "\u001b[32m2023-11-29 14:04:53.796\u001b[0m | \u001b[1mINFO    \u001b[0m | \u001b[36messential_takehome.files\u001b[0m:\u001b[36mload_dataframes\u001b[0m:\u001b[36m22\u001b[0m - \u001b[1mLoaded file sku_data.csv\u001b[0m\n"
     ]
    }
   ],
   "source": [
    "from essential_takehome.files import load_dataframes\n",
    "datasets = load_dataframes()"
   ]
  },
  {
   "cell_type": "markdown",
   "metadata": {},
   "source": [
    "# Test Agent Output"
   ]
  },
  {
   "cell_type": "code",
   "execution_count": 36,
   "metadata": {},
   "outputs": [
    {
     "name": "stdout",
     "output_type": "stream",
     "text": [
      "2                ['M', 'XXL']\n",
      "14          ['S', 'XXL', 'M']\n",
      "29    ['XXL', 'M', 'S', 'XS']\n",
      "53    ['L', 'XXL', 'XS', 'S']\n",
      "86    ['M', 'XXL', 'XL', 'L']\n",
      "Name: Available Sizes, dtype: object\n"
     ]
    }
   ],
   "source": [
    "import pandas as pd\n",
    "\n",
    "# Step 1: Identify required datasets. Note: Only use the necessary data sets; avoid merging if possible.\n",
    "merged_data = pd.merge(datasets['session_clickstream_data.csv'], datasets['sku_data.csv'], on='SKU ID')\n",
    "\n",
    "# Step 2: Apply transformations\n",
    "top_selling_products = merged_data['SKU ID'].value_counts().head(5)\n",
    "result = datasets['sku_data.csv'][datasets['sku_data.csv']['SKU ID'].isin(top_selling_products.index)]['Available Sizes']\n",
    "\n",
    "print(result)"
   ]
  },
  {
   "cell_type": "markdown",
   "metadata": {},
   "source": [
    "# Manually Defined Output"
   ]
  },
  {
   "cell_type": "code",
   "execution_count": 39,
   "metadata": {},
   "outputs": [
    {
     "data": {
      "text/plain": [
       "Available Sizes\n",
       "L      4\n",
       "XXL    4\n",
       "M      2\n",
       "S      2\n",
       "XL     2\n",
       "XS     2\n",
       "dtype: int64"
      ]
     },
     "execution_count": 39,
     "metadata": {},
     "output_type": "execute_result"
    }
   ],
   "source": [
    "import pandas as pd\n",
    "\n",
    "# Step 1: Identify required datasets\n",
    "clickstream_data = datasets['session_clickstream_data.csv']\n",
    "sku_data = datasets['sku_data.csv']\n",
    "import ast\n",
    "sku_data['Available Sizes'] = sku_data['Available Sizes'].apply(ast.literal_eval)\n",
    "\n",
    "\n",
    "# filter for only purchases\n",
    "clickstream_data = clickstream_data[clickstream_data['Purchased'] == True]\n",
    "\n",
    "sku_count = clickstream_data.groupby('SKU ID').size().nlargest(5)\n",
    "sku_count_df = sku_count.reset_index(name='Purchase Count')\n",
    "\n",
    "flattened_sku_data = sku_data.explode('Available Sizes')\n",
    "\n",
    "# # Assuming purchase data is stored in a DataFrame named clickstream_data\n",
    "merged_data = pd.merge(flattened_sku_data, sku_count_df, on='SKU ID')\n",
    "size_counts = merged_data.groupby('Available Sizes').size().sort_values(ascending=False)\n",
    "size_counts\n"
   ]
  },
  {
   "cell_type": "code",
   "execution_count": null,
   "metadata": {},
   "outputs": [],
   "source": []
  }
 ],
 "metadata": {
  "kernelspec": {
   "display_name": ".venv",
   "language": "python",
   "name": "python3"
  },
  "language_info": {
   "codemirror_mode": {
    "name": "ipython",
    "version": 3
   },
   "file_extension": ".py",
   "mimetype": "text/x-python",
   "name": "python",
   "nbconvert_exporter": "python",
   "pygments_lexer": "ipython3",
   "version": "3.9.17"
  }
 },
 "nbformat": 4,
 "nbformat_minor": 2
}
