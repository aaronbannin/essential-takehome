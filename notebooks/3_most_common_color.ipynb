{
 "cells": [
  {
   "cell_type": "code",
   "execution_count": 1,
   "metadata": {},
   "outputs": [
    {
     "name": "stderr",
     "output_type": "stream",
     "text": [
      "\u001b[32m2023-11-28 10:47:24.662\u001b[0m | \u001b[1mINFO    \u001b[0m | \u001b[36messential_takehome.files\u001b[0m:\u001b[36mload_dataframes\u001b[0m:\u001b[36m31\u001b[0m - \u001b[1mLoaded file country_id_mapping.csv\u001b[0m\n",
      "\u001b[32m2023-11-28 10:47:24.794\u001b[0m | \u001b[1mINFO    \u001b[0m | \u001b[36messential_takehome.files\u001b[0m:\u001b[36mload_dataframes\u001b[0m:\u001b[36m31\u001b[0m - \u001b[1mLoaded file customer_data.csv\u001b[0m\n",
      "\u001b[32m2023-11-28 10:47:25.600\u001b[0m | \u001b[1mINFO    \u001b[0m | \u001b[36messential_takehome.files\u001b[0m:\u001b[36mload_dataframes\u001b[0m:\u001b[36m31\u001b[0m - \u001b[1mLoaded file session_clickstream_data.csv\u001b[0m\n",
      "\u001b[32m2023-11-28 10:47:25.611\u001b[0m | \u001b[1mINFO    \u001b[0m | \u001b[36messential_takehome.files\u001b[0m:\u001b[36mload_dataframes\u001b[0m:\u001b[36m31\u001b[0m - \u001b[1mLoaded file sku_data.csv\u001b[0m\n"
     ]
    }
   ],
   "source": [
    "from essential_takehome.files import load_dataframes\n",
    "datasets = load_dataframes()"
   ]
  },
  {
   "cell_type": "markdown",
   "metadata": {},
   "source": [
    "# Test Agent Output"
   ]
  },
  {
   "cell_type": "code",
   "execution_count": 2,
   "metadata": {},
   "outputs": [
    {
     "data": {
      "text/plain": [
       "Type\n",
       "Blouse     White\n",
       "Dress     Purple\n",
       "Jacket    Orange\n",
       "Jeans     Yellow\n",
       "Pants       Grey\n",
       "Shirt     Orange\n",
       "Name: Available Colors, dtype: object"
      ]
     },
     "execution_count": 2,
     "metadata": {},
     "output_type": "execute_result"
    }
   ],
   "source": [
    "import pandas as pd\n",
    "\n",
    "# Step 1: Merge the necessary dataframes\n",
    "sku_data = datasets['sku_data.csv']\n",
    "\n",
    "merged_data = pd.merge(datasets['session_clickstream_data.csv'], datasets['customer_data.csv'], on='Customer ID')\n",
    "merged_data = pd.merge(merged_data, sku_data, on='SKU ID')\n",
    "\n",
    "# Step 2: Count the occurrences of each color for each clothing type\n",
    "color_counts = merged_data.groupby(['Type', 'Available Colors'])['Available Colors'].count()\n",
    "\n",
    "# Step 3: Find the most common color for each clothing type\n",
    "most_common_color = color_counts.groupby('Type').idxmax().apply(lambda x: x[1])\n",
    "\n",
    "most_common_color\n"
   ]
  }
 ],
 "metadata": {
  "kernelspec": {
   "display_name": ".venv",
   "language": "python",
   "name": "python3"
  },
  "language_info": {
   "codemirror_mode": {
    "name": "ipython",
    "version": 3
   },
   "file_extension": ".py",
   "mimetype": "text/x-python",
   "name": "python",
   "nbconvert_exporter": "python",
   "pygments_lexer": "ipython3",
   "version": "3.9.17"
  }
 },
 "nbformat": 4,
 "nbformat_minor": 2
}
