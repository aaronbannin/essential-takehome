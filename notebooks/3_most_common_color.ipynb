{
 "cells": [
  {
   "cell_type": "code",
   "execution_count": 1,
   "metadata": {},
   "outputs": [
    {
     "name": "stderr",
     "output_type": "stream",
     "text": [
      "\u001b[32m2023-11-28 17:45:36.753\u001b[0m | \u001b[1mINFO    \u001b[0m | \u001b[36messential_takehome.files\u001b[0m:\u001b[36mload_dataframes\u001b[0m:\u001b[36m21\u001b[0m - \u001b[1mLoaded file country_id_mapping.csv\u001b[0m\n",
      "\u001b[32m2023-11-28 17:45:36.821\u001b[0m | \u001b[1mINFO    \u001b[0m | \u001b[36messential_takehome.files\u001b[0m:\u001b[36mload_dataframes\u001b[0m:\u001b[36m21\u001b[0m - \u001b[1mLoaded file customer_data.csv\u001b[0m\n",
      "\u001b[32m2023-11-28 17:45:37.370\u001b[0m | \u001b[1mINFO    \u001b[0m | \u001b[36messential_takehome.files\u001b[0m:\u001b[36mload_dataframes\u001b[0m:\u001b[36m21\u001b[0m - \u001b[1mLoaded file session_clickstream_data.csv\u001b[0m\n",
      "\u001b[32m2023-11-28 17:45:37.377\u001b[0m | \u001b[1mINFO    \u001b[0m | \u001b[36messential_takehome.files\u001b[0m:\u001b[36mload_dataframes\u001b[0m:\u001b[36m21\u001b[0m - \u001b[1mLoaded file sku_data.csv\u001b[0m\n"
     ]
    }
   ],
   "source": [
    "from essential_takehome.files import load_dataframes\n",
    "datasets = load_dataframes()"
   ]
  },
  {
   "cell_type": "markdown",
   "metadata": {},
   "source": [
    "# Test Agent Output"
   ]
  },
  {
   "cell_type": "code",
   "execution_count": 2,
   "metadata": {},
   "outputs": [
    {
     "name": "stdout",
     "output_type": "stream",
     "text": [
      "Orange\n"
     ]
    }
   ],
   "source": [
    "import pandas as pd\n",
    "\n",
    "# Step 1: Identify required datasets\n",
    "merged_data = pd.merge(datasets['sku_data.csv'], datasets['session_clickstream_data.csv'], on='SKU ID')\n",
    "\n",
    "# Step 2: Apply transformations\n",
    "color_counts = merged_data['Available Colors'].explode().value_counts()\n",
    "\n",
    "# Step 3: Sort the colors in descending order based on their count\n",
    "sorted_colors = color_counts.sort_values(ascending=False)\n",
    "\n",
    "# Step 4: Select the most common color\n",
    "most_common_color = sorted_colors.idxmax()\n",
    "\n",
    "print(most_common_color)\n"
   ]
  },
  {
   "cell_type": "markdown",
   "metadata": {},
   "source": [
    "# Manually Defined Answer"
   ]
  },
  {
   "cell_type": "code",
   "execution_count": 19,
   "metadata": {},
   "outputs": [
    {
     "name": "stdout",
     "output_type": "stream",
     "text": [
      "     Type Available Colors  Count\n",
      "0  Blouse           Purple      5\n",
      "1   Dress           Purple      7\n",
      "2  Jacket           Orange      6\n",
      "3   Jeans           Purple      6\n",
      "4   Pants           Orange      5\n",
      "5   Shirt             Blue      5\n"
     ]
    }
   ],
   "source": [
    "df = datasets['sku_data.csv']\n",
    "\n",
    "# Group by 'Type' and 'Available Colors', then get the size of each group\n",
    "group_sizes = df.groupby([\"Type\", \"Available Colors\"]).size().reset_index(name='Count')\n",
    "\n",
    "# Sort the results within each 'Type' by 'Count' in descending order\n",
    "sorted_groups = group_sizes.sort_values(by=['Type', 'Count'], ascending=[True, False])\n",
    "\n",
    "# Select the top entry for each 'Type'\n",
    "top_colors_per_type = sorted_groups.groupby('Type').first().reset_index()\n",
    "print(top_colors_per_type)\n"
   ]
  },
  {
   "cell_type": "code",
   "execution_count": null,
   "metadata": {},
   "outputs": [],
   "source": []
  }
 ],
 "metadata": {
  "kernelspec": {
   "display_name": ".venv",
   "language": "python",
   "name": "python3"
  },
  "language_info": {
   "codemirror_mode": {
    "name": "ipython",
    "version": 3
   },
   "file_extension": ".py",
   "mimetype": "text/x-python",
   "name": "python",
   "nbconvert_exporter": "python",
   "pygments_lexer": "ipython3",
   "version": "3.9.17"
  }
 },
 "nbformat": 4,
 "nbformat_minor": 2
}
